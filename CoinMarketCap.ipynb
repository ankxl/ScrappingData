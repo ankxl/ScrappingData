{
 "cells": [
  {
   "cell_type": "code",
   "execution_count": 1,
   "id": "aecc05b4",
   "metadata": {},
   "outputs": [],
   "source": [
    "# import libraries\n",
    "import pandas as pd\n",
    "import numpy as np\n",
    "\n",
    "import requests\n",
    "from bs4 import BeautifulSoup\n",
    "\n"
   ]
  },
  {
   "cell_type": "code",
   "execution_count": 2,
   "id": "79fdc66c",
   "metadata": {},
   "outputs": [],
   "source": [
    "# The link of the webpage we want to scrape\n",
    "url ='https://coinmarketcap.com/'"
   ]
  },
  {
   "cell_type": "code",
   "execution_count": 3,
   "id": "9b3c232b",
   "metadata": {},
   "outputs": [],
   "source": [
    "# get html contents of the webpage\n",
    "page = requests.get(url)"
   ]
  },
  {
   "cell_type": "code",
   "execution_count": 4,
   "id": "0aac4e27",
   "metadata": {},
   "outputs": [],
   "source": [
    "\n",
    "doc = BeautifulSoup(page.text,'html.parser')\n",
    "# doc.prettify()"
   ]
  },
  {
   "cell_type": "code",
   "execution_count": 5,
   "id": "c0cd9960",
   "metadata": {},
   "outputs": [
    {
     "data": {
      "text/plain": [
       "['#',\n",
       " 'Name',\n",
       " 'Price',\n",
       " '1h %',\n",
       " '24h %',\n",
       " '7d %',\n",
       " 'Market Cap',\n",
       " 'Volume(24h)',\n",
       " 'Circulating Supply']"
      ]
     },
     "execution_count": 5,
     "metadata": {},
     "output_type": "execute_result"
    }
   ],
   "source": [
    "# The table is classified into THEAD and TBODY for headers and body of the table.\n",
    "# THEAD contain subtags as TH which contain the headers\n",
    "# TBODY contains tags like TR for each row and TD for each cell\n",
    "\n",
    "thead = doc.find('thead')\n",
    "theads = thead.find_all('th')\n",
    "headers = [th.text.strip() for th in theads[1:-1]]\n",
    "headers"
   ]
  },
  {
   "cell_type": "code",
   "execution_count": 6,
   "id": "97d0af8f",
   "metadata": {},
   "outputs": [
    {
     "data": {
      "text/html": [
       "<div>\n",
       "<style scoped>\n",
       "    .dataframe tbody tr th:only-of-type {\n",
       "        vertical-align: middle;\n",
       "    }\n",
       "\n",
       "    .dataframe tbody tr th {\n",
       "        vertical-align: top;\n",
       "    }\n",
       "\n",
       "    .dataframe thead th {\n",
       "        text-align: right;\n",
       "    }\n",
       "</style>\n",
       "<table border=\"1\" class=\"dataframe\">\n",
       "  <thead>\n",
       "    <tr style=\"text-align: right;\">\n",
       "      <th></th>\n",
       "      <th>#</th>\n",
       "      <th>Name</th>\n",
       "      <th>Price</th>\n",
       "      <th>1h %</th>\n",
       "      <th>24h %</th>\n",
       "      <th>7d %</th>\n",
       "      <th>Market Cap</th>\n",
       "      <th>Volume(24h)</th>\n",
       "      <th>Circulating Supply</th>\n",
       "    </tr>\n",
       "  </thead>\n",
       "  <tbody>\n",
       "  </tbody>\n",
       "</table>\n",
       "</div>"
      ],
      "text/plain": [
       "Empty DataFrame\n",
       "Columns: [#, Name, Price, 1h %, 24h %, 7d %, Market Cap, Volume(24h), Circulating Supply]\n",
       "Index: []"
      ]
     },
     "execution_count": 6,
     "metadata": {},
     "output_type": "execute_result"
    }
   ],
   "source": [
    "df = pd.DataFrame(columns=headers)\n",
    "df"
   ]
  },
  {
   "cell_type": "code",
   "execution_count": 7,
   "id": "9f9b1ee8",
   "metadata": {},
   "outputs": [],
   "source": [
    "tbody = doc.find('tbody')\n",
    "trs = tbody.find_all('tr')\n"
   ]
  },
  {
   "cell_type": "code",
   "execution_count": 8,
   "id": "2e0f4004",
   "metadata": {},
   "outputs": [
    {
     "name": "stdout",
     "output_type": "stream",
     "text": [
      "['1', 'BitcoinBTC', '$29,153.14', '0.09%', '0.24%', '0.02%', '$567.02B$567,017,506,308', '$12,333,177,328423,006 BTC', '19,447,681 BTC']\n",
      "['2', 'EthereumETH', '$1,833.58', '0.13%', '0.14%', '1.51%', '$220.37B$220,368,002,685', '$4,594,373,3792,505,342 ETH', '120,168,132 ETH']\n",
      "['3', 'Tether USDtUSDT', '$0.9989', '0.01%', '0.01%', '0.09%', '$83.81B$83,807,077,677', '$19,752,345,10419,773,569,674 USDT', '83,897,131,247 USDT']\n",
      "['4', 'BNBBNB', '$241.89', '0.03%', '1.25%', '0.26%', '$37.22B$37,216,353,511', '$396,855,8251,640,627 BNB', '153,854,709 BNB']\n",
      "['5', 'XRPXRP', '$0.6591', '0.14%', '0.29%', '7.01%', '$34.76B$34,761,147,101', '$1,216,057,9891,845,061,742 XRP', '52,741,286,353 XRP']\n",
      "['6', 'USD CoinUSDC', '$0.9998', '0.01%', '0.00%', '0.03%', '$26.08B$26,080,431,203', '$2,900,984,3902,901,447,706 USDC', '26,084,596,514 USDC']\n",
      "['7', 'DogecoinDOGE', '$0.07417', '0.19%', '1.32%', '2.89%', '$10.42B$10,416,785,268', '$338,226,5274,560,316,075 DOGE', '140,449,756,384 DOGE']\n",
      "['8', 'CardanoADA', '$0.293', '0.20%', '0.41%', '5.66%', '$10.26B$10,260,417,985', '$286,849,128978,981,410 ADA', '35,017,566,717 ADA']\n",
      "['9', 'SolanaSOL', '$22.91', '0.11%', '1.23%', '7.19%', '$9.27B$9,269,666,327', '$341,947,27114,927,139 SOL', '404,651,848 SOL']\n"
     ]
    }
   ],
   "source": [
    "prices = {}\n",
    "\n",
    "for tr in trs[0:9]:\n",
    "    data = [td.text.strip() for td in tr.contents[1:-1]]\n",
    "    print(data)\n",
    "    length = len(df)\n",
    "    df.loc[length]=data\n",
    "#     print(df)\n",
    "        "
   ]
  },
  {
   "cell_type": "code",
   "execution_count": 9,
   "id": "72f95425",
   "metadata": {},
   "outputs": [
    {
     "data": {
      "text/html": [
       "<div>\n",
       "<style scoped>\n",
       "    .dataframe tbody tr th:only-of-type {\n",
       "        vertical-align: middle;\n",
       "    }\n",
       "\n",
       "    .dataframe tbody tr th {\n",
       "        vertical-align: top;\n",
       "    }\n",
       "\n",
       "    .dataframe thead th {\n",
       "        text-align: right;\n",
       "    }\n",
       "</style>\n",
       "<table border=\"1\" class=\"dataframe\">\n",
       "  <thead>\n",
       "    <tr style=\"text-align: right;\">\n",
       "      <th></th>\n",
       "      <th>#</th>\n",
       "      <th>Name</th>\n",
       "      <th>Price</th>\n",
       "      <th>1h %</th>\n",
       "      <th>24h %</th>\n",
       "      <th>7d %</th>\n",
       "      <th>Market Cap</th>\n",
       "      <th>Volume(24h)</th>\n",
       "      <th>Circulating Supply</th>\n",
       "    </tr>\n",
       "  </thead>\n",
       "  <tbody>\n",
       "    <tr>\n",
       "      <th>0</th>\n",
       "      <td>1</td>\n",
       "      <td>BitcoinBTC</td>\n",
       "      <td>$29,153.14</td>\n",
       "      <td>0.09%</td>\n",
       "      <td>0.24%</td>\n",
       "      <td>0.02%</td>\n",
       "      <td>$567.02B$567,017,506,308</td>\n",
       "      <td>$12,333,177,328423,006 BTC</td>\n",
       "      <td>19,447,681 BTC</td>\n",
       "    </tr>\n",
       "    <tr>\n",
       "      <th>1</th>\n",
       "      <td>2</td>\n",
       "      <td>EthereumETH</td>\n",
       "      <td>$1,833.58</td>\n",
       "      <td>0.13%</td>\n",
       "      <td>0.14%</td>\n",
       "      <td>1.51%</td>\n",
       "      <td>$220.37B$220,368,002,685</td>\n",
       "      <td>$4,594,373,3792,505,342 ETH</td>\n",
       "      <td>120,168,132 ETH</td>\n",
       "    </tr>\n",
       "    <tr>\n",
       "      <th>2</th>\n",
       "      <td>3</td>\n",
       "      <td>Tether USDtUSDT</td>\n",
       "      <td>$0.9989</td>\n",
       "      <td>0.01%</td>\n",
       "      <td>0.01%</td>\n",
       "      <td>0.09%</td>\n",
       "      <td>$83.81B$83,807,077,677</td>\n",
       "      <td>$19,752,345,10419,773,569,674 USDT</td>\n",
       "      <td>83,897,131,247 USDT</td>\n",
       "    </tr>\n",
       "    <tr>\n",
       "      <th>3</th>\n",
       "      <td>4</td>\n",
       "      <td>BNBBNB</td>\n",
       "      <td>$241.89</td>\n",
       "      <td>0.03%</td>\n",
       "      <td>1.25%</td>\n",
       "      <td>0.26%</td>\n",
       "      <td>$37.22B$37,216,353,511</td>\n",
       "      <td>$396,855,8251,640,627 BNB</td>\n",
       "      <td>153,854,709 BNB</td>\n",
       "    </tr>\n",
       "    <tr>\n",
       "      <th>4</th>\n",
       "      <td>5</td>\n",
       "      <td>XRPXRP</td>\n",
       "      <td>$0.6591</td>\n",
       "      <td>0.14%</td>\n",
       "      <td>0.29%</td>\n",
       "      <td>7.01%</td>\n",
       "      <td>$34.76B$34,761,147,101</td>\n",
       "      <td>$1,216,057,9891,845,061,742 XRP</td>\n",
       "      <td>52,741,286,353 XRP</td>\n",
       "    </tr>\n",
       "    <tr>\n",
       "      <th>5</th>\n",
       "      <td>6</td>\n",
       "      <td>USD CoinUSDC</td>\n",
       "      <td>$0.9998</td>\n",
       "      <td>0.01%</td>\n",
       "      <td>0.00%</td>\n",
       "      <td>0.03%</td>\n",
       "      <td>$26.08B$26,080,431,203</td>\n",
       "      <td>$2,900,984,3902,901,447,706 USDC</td>\n",
       "      <td>26,084,596,514 USDC</td>\n",
       "    </tr>\n",
       "    <tr>\n",
       "      <th>6</th>\n",
       "      <td>7</td>\n",
       "      <td>DogecoinDOGE</td>\n",
       "      <td>$0.07417</td>\n",
       "      <td>0.19%</td>\n",
       "      <td>1.32%</td>\n",
       "      <td>2.89%</td>\n",
       "      <td>$10.42B$10,416,785,268</td>\n",
       "      <td>$338,226,5274,560,316,075 DOGE</td>\n",
       "      <td>140,449,756,384 DOGE</td>\n",
       "    </tr>\n",
       "    <tr>\n",
       "      <th>7</th>\n",
       "      <td>8</td>\n",
       "      <td>CardanoADA</td>\n",
       "      <td>$0.293</td>\n",
       "      <td>0.20%</td>\n",
       "      <td>0.41%</td>\n",
       "      <td>5.66%</td>\n",
       "      <td>$10.26B$10,260,417,985</td>\n",
       "      <td>$286,849,128978,981,410 ADA</td>\n",
       "      <td>35,017,566,717 ADA</td>\n",
       "    </tr>\n",
       "    <tr>\n",
       "      <th>8</th>\n",
       "      <td>9</td>\n",
       "      <td>SolanaSOL</td>\n",
       "      <td>$22.91</td>\n",
       "      <td>0.11%</td>\n",
       "      <td>1.23%</td>\n",
       "      <td>7.19%</td>\n",
       "      <td>$9.27B$9,269,666,327</td>\n",
       "      <td>$341,947,27114,927,139 SOL</td>\n",
       "      <td>404,651,848 SOL</td>\n",
       "    </tr>\n",
       "  </tbody>\n",
       "</table>\n",
       "</div>"
      ],
      "text/plain": [
       "   #             Name       Price   1h %  24h %   7d %  \\\n",
       "0  1       BitcoinBTC  $29,153.14  0.09%  0.24%  0.02%   \n",
       "1  2      EthereumETH   $1,833.58  0.13%  0.14%  1.51%   \n",
       "2  3  Tether USDtUSDT     $0.9989  0.01%  0.01%  0.09%   \n",
       "3  4           BNBBNB     $241.89  0.03%  1.25%  0.26%   \n",
       "4  5           XRPXRP     $0.6591  0.14%  0.29%  7.01%   \n",
       "5  6     USD CoinUSDC     $0.9998  0.01%  0.00%  0.03%   \n",
       "6  7     DogecoinDOGE    $0.07417  0.19%  1.32%  2.89%   \n",
       "7  8       CardanoADA      $0.293  0.20%  0.41%  5.66%   \n",
       "8  9        SolanaSOL      $22.91  0.11%  1.23%  7.19%   \n",
       "\n",
       "                 Market Cap                         Volume(24h)  \\\n",
       "0  $567.02B$567,017,506,308          $12,333,177,328423,006 BTC   \n",
       "1  $220.37B$220,368,002,685         $4,594,373,3792,505,342 ETH   \n",
       "2    $83.81B$83,807,077,677  $19,752,345,10419,773,569,674 USDT   \n",
       "3    $37.22B$37,216,353,511           $396,855,8251,640,627 BNB   \n",
       "4    $34.76B$34,761,147,101     $1,216,057,9891,845,061,742 XRP   \n",
       "5    $26.08B$26,080,431,203    $2,900,984,3902,901,447,706 USDC   \n",
       "6    $10.42B$10,416,785,268      $338,226,5274,560,316,075 DOGE   \n",
       "7    $10.26B$10,260,417,985         $286,849,128978,981,410 ADA   \n",
       "8      $9.27B$9,269,666,327          $341,947,27114,927,139 SOL   \n",
       "\n",
       "     Circulating Supply  \n",
       "0        19,447,681 BTC  \n",
       "1       120,168,132 ETH  \n",
       "2   83,897,131,247 USDT  \n",
       "3       153,854,709 BNB  \n",
       "4    52,741,286,353 XRP  \n",
       "5   26,084,596,514 USDC  \n",
       "6  140,449,756,384 DOGE  \n",
       "7    35,017,566,717 ADA  \n",
       "8       404,651,848 SOL  "
      ]
     },
     "execution_count": 9,
     "metadata": {},
     "output_type": "execute_result"
    }
   ],
   "source": [
    "df"
   ]
  },
  {
   "cell_type": "code",
   "execution_count": null,
   "id": "1adf6eaa",
   "metadata": {},
   "outputs": [],
   "source": []
  },
  {
   "cell_type": "code",
   "execution_count": null,
   "id": "773cd982",
   "metadata": {},
   "outputs": [],
   "source": []
  },
  {
   "cell_type": "code",
   "execution_count": null,
   "id": "84d7ac0e",
   "metadata": {},
   "outputs": [],
   "source": []
  },
  {
   "cell_type": "code",
   "execution_count": null,
   "id": "02b0e01a",
   "metadata": {},
   "outputs": [],
   "source": []
  },
  {
   "cell_type": "code",
   "execution_count": null,
   "id": "ef91ef41",
   "metadata": {},
   "outputs": [],
   "source": []
  },
  {
   "cell_type": "code",
   "execution_count": null,
   "id": "ef1e292d",
   "metadata": {},
   "outputs": [],
   "source": []
  }
 ],
 "metadata": {
  "kernelspec": {
   "display_name": "Python 3 (ipykernel)",
   "language": "python",
   "name": "python3"
  },
  "language_info": {
   "codemirror_mode": {
    "name": "ipython",
    "version": 3
   },
   "file_extension": ".py",
   "mimetype": "text/x-python",
   "name": "python",
   "nbconvert_exporter": "python",
   "pygments_lexer": "ipython3",
   "version": "3.9.13"
  }
 },
 "nbformat": 4,
 "nbformat_minor": 5
}
