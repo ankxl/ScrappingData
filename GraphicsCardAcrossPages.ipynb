{
 "cells": [
  {
   "cell_type": "code",
   "execution_count": 18,
   "id": "3dcddf20",
   "metadata": {},
   "outputs": [],
   "source": [
    "# import libraries\n",
    "import pandas as pd\n",
    "import numpy as np\n",
    "\n",
    "import requests\n",
    "from bs4 import BeautifulSoup\n",
    "\n",
    "import re"
   ]
  },
  {
   "cell_type": "code",
   "execution_count": 19,
   "id": "4b3dcc4f",
   "metadata": {},
   "outputs": [
    {
     "name": "stdout",
     "output_type": "stream",
     "text": [
      "Which product do you want to search for?3080\n"
     ]
    }
   ],
   "source": [
    "# Ask the user which Graphics card do you need\n",
    "search_term = input('Which product do you want to search for?')"
   ]
  },
  {
   "cell_type": "code",
   "execution_count": 20,
   "id": "7d85eaa2",
   "metadata": {},
   "outputs": [],
   "source": [
    "url = f'https://www.newegg.ca/p/pl?d={search_term}&N=4131'"
   ]
  },
  {
   "cell_type": "code",
   "execution_count": 21,
   "id": "1a04cbef",
   "metadata": {},
   "outputs": [],
   "source": [
    "wbpage = requests.get(url)"
   ]
  },
  {
   "cell_type": "code",
   "execution_count": 22,
   "id": "6b6b55b6",
   "metadata": {},
   "outputs": [],
   "source": [
    "doc = BeautifulSoup(wbpage.text,'html.parser')"
   ]
  },
  {
   "cell_type": "code",
   "execution_count": 23,
   "id": "48c162dd",
   "metadata": {},
   "outputs": [
    {
     "data": {
      "text/plain": [
       "7"
      ]
     },
     "execution_count": 23,
     "metadata": {},
     "output_type": "execute_result"
    }
   ],
   "source": [
    "# Find the total number of product pages\n",
    "total_pages = doc.find(class_='list-tool-pagination-text')\n",
    "total_pages = total_pages.text.split('/')[1]\n",
    "total_pages = int(total_pages)\n",
    "total_pages\n",
    "# total_page = total_pages.text.split('/')"
   ]
  },
  {
   "cell_type": "code",
   "execution_count": 64,
   "id": "ac072663",
   "metadata": {},
   "outputs": [
    {
     "data": {
      "text/html": [
       "<div>\n",
       "<style scoped>\n",
       "    .dataframe tbody tr th:only-of-type {\n",
       "        vertical-align: middle;\n",
       "    }\n",
       "\n",
       "    .dataframe tbody tr th {\n",
       "        vertical-align: top;\n",
       "    }\n",
       "\n",
       "    .dataframe thead th {\n",
       "        text-align: right;\n",
       "    }\n",
       "</style>\n",
       "<table border=\"1\" class=\"dataframe\">\n",
       "  <thead>\n",
       "    <tr style=\"text-align: right;\">\n",
       "      <th></th>\n",
       "      <th>Name</th>\n",
       "      <th>Link</th>\n",
       "      <th>Price</th>\n",
       "    </tr>\n",
       "  </thead>\n",
       "  <tbody>\n",
       "  </tbody>\n",
       "</table>\n",
       "</div>"
      ],
      "text/plain": [
       "Empty DataFrame\n",
       "Columns: [Name, Link, Price]\n",
       "Index: []"
      ]
     },
     "execution_count": 64,
     "metadata": {},
     "output_type": "execute_result"
    }
   ],
   "source": [
    "df = pd.DataFrame(columns=['Name','Link','Price'])\n",
    "df"
   ]
  },
  {
   "cell_type": "code",
   "execution_count": 65,
   "id": "2ff1936e",
   "metadata": {},
   "outputs": [],
   "source": [
    "for page in range(1,total_pages+1):\n",
    "    url = f'https://www.newegg.ca/p/pl?d={search_term}&page={page}'\n",
    "    wbpage = requests.get(url)\n",
    "    doc = BeautifulSoup(wbpage.text,'html.parser')\n",
    "    \n",
    "    div = doc.find(class_='list-wrap')\n",
    "    items = div.find_all(text=re.compile(search_term))\n",
    "    for item in items:\n",
    "        parent = item.parent\n",
    "        \n",
    "        link = None\n",
    "        if parent.name != 'a':\n",
    "            continue\n",
    "        \n",
    "        link = parent['href']\n",
    "        name = parent.text\n",
    "        \n",
    "        price_parent = parent.parent.parent\n",
    "        price = price_parent.find(class_='price-current').text.strip()\n",
    "        price = re.findall(r'\\d*,*\\d+.\\d*',price)\n",
    "        if len(price) == 0:\n",
    "            continue\n",
    "        price = price[0]\n",
    "        \n",
    "        length = len(df)\n",
    "        df.loc[length] = [name,link,price]\n",
    "#         whole = price_parent.find(class_='price-current').strong.text.strip()\n",
    "#         dec = price_parent.find(class_='price-current').sup.text.strip()\n",
    "#         price = whole + dec\n",
    "#         print(name)\n",
    "#         print(link)\n",
    "#         print(price)\n",
    "#     print(doc.prettify())\n",
    "#     print(\"-------------------------------------------------\")"
   ]
  },
  {
   "cell_type": "code",
   "execution_count": 66,
   "id": "c3ff35c3",
   "metadata": {},
   "outputs": [
    {
     "data": {
      "text/html": [
       "<div>\n",
       "<style scoped>\n",
       "    .dataframe tbody tr th:only-of-type {\n",
       "        vertical-align: middle;\n",
       "    }\n",
       "\n",
       "    .dataframe tbody tr th {\n",
       "        vertical-align: top;\n",
       "    }\n",
       "\n",
       "    .dataframe thead th {\n",
       "        text-align: right;\n",
       "    }\n",
       "</style>\n",
       "<table border=\"1\" class=\"dataframe\">\n",
       "  <thead>\n",
       "    <tr style=\"text-align: right;\">\n",
       "      <th></th>\n",
       "      <th>Name</th>\n",
       "      <th>Link</th>\n",
       "      <th>Price</th>\n",
       "    </tr>\n",
       "  </thead>\n",
       "  <tbody>\n",
       "    <tr>\n",
       "      <th>0</th>\n",
       "      <td>ASUS ROG STRIX GeForce RTX 3080 10GB GDDR6X PC...</td>\n",
       "      <td>https://www.newegg.ca/asus-geforce-rtx-3080-rt...</td>\n",
       "      <td>1,549.99</td>\n",
       "    </tr>\n",
       "    <tr>\n",
       "      <th>1</th>\n",
       "      <td>MSI Suprim GeForce RTX 3080 10GB GDDR6X PCI Ex...</td>\n",
       "      <td>https://www.newegg.ca/msi-geforce-rtx-3080-rtx...</td>\n",
       "      <td>1,279.99</td>\n",
       "    </tr>\n",
       "    <tr>\n",
       "      <th>2</th>\n",
       "      <td>GIGABYTE Gaming OC GeForce RTX 3080 10GB GDDR6...</td>\n",
       "      <td>https://www.newegg.ca/gigabyte-geforce-rtx-308...</td>\n",
       "      <td>1,378.99</td>\n",
       "    </tr>\n",
       "    <tr>\n",
       "      <th>3</th>\n",
       "      <td>MSI Ventus GeForce RTX 3080 10GB GDDR6X PCI Ex...</td>\n",
       "      <td>https://www.newegg.ca/msi-geforce-rtx-3080-rtx...</td>\n",
       "      <td>1,269.99</td>\n",
       "    </tr>\n",
       "    <tr>\n",
       "      <th>4</th>\n",
       "      <td>Refurbished MSI Suprim GeForce RTX 3080 10GB G...</td>\n",
       "      <td>https://www.newegg.ca/msi-geforce-rtx-3080-rtx...</td>\n",
       "      <td>899.00</td>\n",
       "    </tr>\n",
       "    <tr>\n",
       "      <th>...</th>\n",
       "      <td>...</td>\n",
       "      <td>...</td>\n",
       "      <td>...</td>\n",
       "    </tr>\n",
       "    <tr>\n",
       "      <th>227</th>\n",
       "      <td>Refurbished ASUS TUF Gaming NVIDIA GeForce RTX...</td>\n",
       "      <td>https://www.newegg.ca/p/1FT-000Y-007P8</td>\n",
       "      <td>1,599.99</td>\n",
       "    </tr>\n",
       "    <tr>\n",
       "      <th>228</th>\n",
       "      <td>Refurbished ASUS ROG Strix GeForce RTX 3080 Ti...</td>\n",
       "      <td>https://www.newegg.ca/p/1FT-000Y-008S2</td>\n",
       "      <td>1,430.99</td>\n",
       "    </tr>\n",
       "    <tr>\n",
       "      <th>229</th>\n",
       "      <td>Refurbished ASUS ROG Strix GeForce RTX 3080 10...</td>\n",
       "      <td>https://www.newegg.ca/p/1FT-000Y-007N9</td>\n",
       "      <td>1,099.99</td>\n",
       "    </tr>\n",
       "    <tr>\n",
       "      <th>230</th>\n",
       "      <td>Refurbished MSI Suprim GeForce RTX 3080TI 12GB...</td>\n",
       "      <td>https://www.newegg.ca/p/1FT-0009-009M0</td>\n",
       "      <td>1,599.99</td>\n",
       "    </tr>\n",
       "    <tr>\n",
       "      <th>231</th>\n",
       "      <td>Refurbished ASUS TUF-RTX3080TI-O12G-GAMING Vid...</td>\n",
       "      <td>https://www.newegg.ca/asus-geforce-rtx-3080-ti...</td>\n",
       "      <td>1,599.99</td>\n",
       "    </tr>\n",
       "  </tbody>\n",
       "</table>\n",
       "<p>232 rows × 3 columns</p>\n",
       "</div>"
      ],
      "text/plain": [
       "                                                  Name  \\\n",
       "0    ASUS ROG STRIX GeForce RTX 3080 10GB GDDR6X PC...   \n",
       "1    MSI Suprim GeForce RTX 3080 10GB GDDR6X PCI Ex...   \n",
       "2    GIGABYTE Gaming OC GeForce RTX 3080 10GB GDDR6...   \n",
       "3    MSI Ventus GeForce RTX 3080 10GB GDDR6X PCI Ex...   \n",
       "4    Refurbished MSI Suprim GeForce RTX 3080 10GB G...   \n",
       "..                                                 ...   \n",
       "227  Refurbished ASUS TUF Gaming NVIDIA GeForce RTX...   \n",
       "228  Refurbished ASUS ROG Strix GeForce RTX 3080 Ti...   \n",
       "229  Refurbished ASUS ROG Strix GeForce RTX 3080 10...   \n",
       "230  Refurbished MSI Suprim GeForce RTX 3080TI 12GB...   \n",
       "231  Refurbished ASUS TUF-RTX3080TI-O12G-GAMING Vid...   \n",
       "\n",
       "                                                  Link     Price  \n",
       "0    https://www.newegg.ca/asus-geforce-rtx-3080-rt...  1,549.99  \n",
       "1    https://www.newegg.ca/msi-geforce-rtx-3080-rtx...  1,279.99  \n",
       "2    https://www.newegg.ca/gigabyte-geforce-rtx-308...  1,378.99  \n",
       "3    https://www.newegg.ca/msi-geforce-rtx-3080-rtx...  1,269.99  \n",
       "4    https://www.newegg.ca/msi-geforce-rtx-3080-rtx...    899.00  \n",
       "..                                                 ...       ...  \n",
       "227             https://www.newegg.ca/p/1FT-000Y-007P8  1,599.99  \n",
       "228             https://www.newegg.ca/p/1FT-000Y-008S2  1,430.99  \n",
       "229             https://www.newegg.ca/p/1FT-000Y-007N9  1,099.99  \n",
       "230             https://www.newegg.ca/p/1FT-0009-009M0  1,599.99  \n",
       "231  https://www.newegg.ca/asus-geforce-rtx-3080-ti...  1,599.99  \n",
       "\n",
       "[232 rows x 3 columns]"
      ]
     },
     "execution_count": 66,
     "metadata": {},
     "output_type": "execute_result"
    }
   ],
   "source": [
    "df"
   ]
  },
  {
   "cell_type": "code",
   "execution_count": null,
   "id": "19cdf95b",
   "metadata": {},
   "outputs": [],
   "source": []
  },
  {
   "cell_type": "code",
   "execution_count": null,
   "id": "48f319a3",
   "metadata": {},
   "outputs": [],
   "source": []
  },
  {
   "cell_type": "code",
   "execution_count": null,
   "id": "b53bea29",
   "metadata": {},
   "outputs": [],
   "source": []
  },
  {
   "cell_type": "code",
   "execution_count": null,
   "id": "e6a1bf5d",
   "metadata": {},
   "outputs": [],
   "source": []
  },
  {
   "cell_type": "code",
   "execution_count": null,
   "id": "8989a500",
   "metadata": {},
   "outputs": [],
   "source": []
  },
  {
   "cell_type": "code",
   "execution_count": null,
   "id": "85fa4664",
   "metadata": {},
   "outputs": [],
   "source": []
  },
  {
   "cell_type": "code",
   "execution_count": null,
   "id": "22e0c2c3",
   "metadata": {},
   "outputs": [],
   "source": []
  },
  {
   "cell_type": "code",
   "execution_count": null,
   "id": "88d16d16",
   "metadata": {},
   "outputs": [],
   "source": []
  },
  {
   "cell_type": "code",
   "execution_count": null,
   "id": "92314c99",
   "metadata": {},
   "outputs": [],
   "source": []
  },
  {
   "cell_type": "code",
   "execution_count": null,
   "id": "eaf454f8",
   "metadata": {},
   "outputs": [],
   "source": []
  },
  {
   "cell_type": "code",
   "execution_count": null,
   "id": "a1115810",
   "metadata": {},
   "outputs": [],
   "source": []
  },
  {
   "cell_type": "code",
   "execution_count": null,
   "id": "59f9a1ca",
   "metadata": {},
   "outputs": [],
   "source": []
  },
  {
   "cell_type": "code",
   "execution_count": null,
   "id": "94ef19c9",
   "metadata": {},
   "outputs": [],
   "source": []
  },
  {
   "cell_type": "code",
   "execution_count": null,
   "id": "a8fe5c0c",
   "metadata": {},
   "outputs": [],
   "source": []
  }
 ],
 "metadata": {
  "kernelspec": {
   "display_name": "Python 3 (ipykernel)",
   "language": "python",
   "name": "python3"
  },
  "language_info": {
   "codemirror_mode": {
    "name": "ipython",
    "version": 3
   },
   "file_extension": ".py",
   "mimetype": "text/x-python",
   "name": "python",
   "nbconvert_exporter": "python",
   "pygments_lexer": "ipython3",
   "version": "3.9.13"
  }
 },
 "nbformat": 4,
 "nbformat_minor": 5
}
