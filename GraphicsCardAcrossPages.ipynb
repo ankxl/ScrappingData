{
 "cells": [
  {
   "cell_type": "code",
   "execution_count": 1,
   "id": "7364c27b",
   "metadata": {},
   "outputs": [],
   "source": [
    "# import libraries\n",
    "import pandas as pd\n",
    "import numpy as np\n",
    "\n",
    "import requests\n",
    "from bs4 import BeautifulSoup\n",
    "\n",
    "import re"
   ]
  },
  {
   "cell_type": "code",
   "execution_count": 2,
   "id": "83193580",
   "metadata": {},
   "outputs": [
    {
     "name": "stdout",
     "output_type": "stream",
     "text": [
      "Which product do you want to search for?3070\n"
     ]
    }
   ],
   "source": [
    "# Ask the user which Graphics card do you need\n",
    "search_term = input('Which product do you want to search for?')"
   ]
  },
  {
   "cell_type": "code",
   "execution_count": 3,
   "id": "104584ee",
   "metadata": {},
   "outputs": [],
   "source": [
    "url = f'https://www.newegg.ca/p/pl?d={search_term}&N=4131'"
   ]
  },
  {
   "cell_type": "code",
   "execution_count": 4,
   "id": "cf5a7544",
   "metadata": {},
   "outputs": [],
   "source": [
    "wbpage = requests.get(url)"
   ]
  },
  {
   "cell_type": "code",
   "execution_count": 5,
   "id": "55e77b26",
   "metadata": {},
   "outputs": [],
   "source": [
    "doc = BeautifulSoup(wbpage.text,'html.parser')"
   ]
  },
  {
   "cell_type": "code",
   "execution_count": 6,
   "id": "159b3f39",
   "metadata": {},
   "outputs": [
    {
     "data": {
      "text/plain": [
       "6"
      ]
     },
     "execution_count": 6,
     "metadata": {},
     "output_type": "execute_result"
    }
   ],
   "source": [
    "# Find the total number of product pages\n",
    "total_pages = doc.find(class_='list-tool-pagination-text')\n",
    "total_pages = total_pages.text.split('/')[1]\n",
    "total_pages = int(total_pages)\n",
    "total_pages\n",
    "# total_page = total_pages.text.split('/')"
   ]
  },
  {
   "cell_type": "code",
   "execution_count": 7,
   "id": "6eeecc21",
   "metadata": {},
   "outputs": [
    {
     "data": {
      "text/html": [
       "<div>\n",
       "<style scoped>\n",
       "    .dataframe tbody tr th:only-of-type {\n",
       "        vertical-align: middle;\n",
       "    }\n",
       "\n",
       "    .dataframe tbody tr th {\n",
       "        vertical-align: top;\n",
       "    }\n",
       "\n",
       "    .dataframe thead th {\n",
       "        text-align: right;\n",
       "    }\n",
       "</style>\n",
       "<table border=\"1\" class=\"dataframe\">\n",
       "  <thead>\n",
       "    <tr style=\"text-align: right;\">\n",
       "      <th></th>\n",
       "      <th>Name</th>\n",
       "      <th>Link</th>\n",
       "      <th>Price</th>\n",
       "    </tr>\n",
       "  </thead>\n",
       "  <tbody>\n",
       "  </tbody>\n",
       "</table>\n",
       "</div>"
      ],
      "text/plain": [
       "Empty DataFrame\n",
       "Columns: [Name, Link, Price]\n",
       "Index: []"
      ]
     },
     "execution_count": 7,
     "metadata": {},
     "output_type": "execute_result"
    }
   ],
   "source": [
    "df = pd.DataFrame(columns=['Name','Link','Price'])\n",
    "df"
   ]
  },
  {
   "cell_type": "code",
   "execution_count": 8,
   "id": "042c6708",
   "metadata": {},
   "outputs": [],
   "source": [
    "for page in range(1,total_pages+1):\n",
    "    url = f'https://www.newegg.ca/p/pl?d={search_term}&page={page}'\n",
    "    wbpage = requests.get(url)\n",
    "    doc = BeautifulSoup(wbpage.text,'html.parser')\n",
    "    \n",
    "    div = doc.find(class_='list-wrap')\n",
    "    items = div.find_all(text=re.compile(search_term))\n",
    "    for item in items:\n",
    "        parent = item.parent\n",
    "        \n",
    "        link = None\n",
    "        if parent.name != 'a':\n",
    "            continue\n",
    "        \n",
    "        link = parent['href']\n",
    "        name = parent.text\n",
    "        \n",
    "        price_parent = parent.parent.parent\n",
    "        price = price_parent.find(class_='price-current').text.strip()\n",
    "        price = re.findall(r'\\d*,*\\d+.\\d*',price)\n",
    "        if len(price) == 0:\n",
    "            continue\n",
    "        price = price[0]\n",
    "        \n",
    "        length = len(df)\n",
    "        df.loc[length] = [name,link,price]\n",
    "#         whole = price_parent.find(class_='price-current').strong.text.strip()\n",
    "#         dec = price_parent.find(class_='price-current').sup.text.strip()\n",
    "#         price = whole + dec\n",
    "#         print(name)\n",
    "#         print(link)\n",
    "#         print(price)\n",
    "#     print(doc.prettify())\n",
    "#     print(\"-------------------------------------------------\")"
   ]
  },
  {
   "cell_type": "code",
   "execution_count": 11,
   "id": "7518013e",
   "metadata": {},
   "outputs": [],
   "source": [
    "# df"
   ]
  },
  {
   "cell_type": "code",
   "execution_count": 10,
   "id": "5b66bc7a",
   "metadata": {},
   "outputs": [],
   "source": [
    "df.to_csv('Graphic_Card_data.csv',index=False)"
   ]
  },
  {
   "cell_type": "code",
   "execution_count": null,
   "id": "1416e453",
   "metadata": {},
   "outputs": [],
   "source": []
  },
  {
   "cell_type": "code",
   "execution_count": null,
   "id": "828ba31d",
   "metadata": {},
   "outputs": [],
   "source": []
  },
  {
   "cell_type": "code",
   "execution_count": null,
   "id": "900d143d",
   "metadata": {},
   "outputs": [],
   "source": []
  },
  {
   "cell_type": "code",
   "execution_count": null,
   "id": "e7f092ae",
   "metadata": {},
   "outputs": [],
   "source": []
  },
  {
   "cell_type": "code",
   "execution_count": null,
   "id": "ef3c81c8",
   "metadata": {},
   "outputs": [],
   "source": []
  },
  {
   "cell_type": "code",
   "execution_count": null,
   "id": "94f5180f",
   "metadata": {},
   "outputs": [],
   "source": []
  },
  {
   "cell_type": "code",
   "execution_count": null,
   "id": "9c919626",
   "metadata": {},
   "outputs": [],
   "source": []
  },
  {
   "cell_type": "code",
   "execution_count": null,
   "id": "f20cafb0",
   "metadata": {},
   "outputs": [],
   "source": []
  },
  {
   "cell_type": "code",
   "execution_count": null,
   "id": "25a16aaa",
   "metadata": {},
   "outputs": [],
   "source": []
  },
  {
   "cell_type": "code",
   "execution_count": null,
   "id": "4fabd852",
   "metadata": {},
   "outputs": [],
   "source": []
  },
  {
   "cell_type": "code",
   "execution_count": null,
   "id": "6ff208ce",
   "metadata": {},
   "outputs": [],
   "source": []
  },
  {
   "cell_type": "code",
   "execution_count": null,
   "id": "976ffa54",
   "metadata": {},
   "outputs": [],
   "source": []
  },
  {
   "cell_type": "code",
   "execution_count": null,
   "id": "6c6390fc",
   "metadata": {},
   "outputs": [],
   "source": []
  }
 ],
 "metadata": {
  "kernelspec": {
   "display_name": "Python 3 (ipykernel)",
   "language": "python",
   "name": "python3"
  },
  "language_info": {
   "codemirror_mode": {
    "name": "ipython",
    "version": 3
   },
   "file_extension": ".py",
   "mimetype": "text/x-python",
   "name": "python",
   "nbconvert_exporter": "python",
   "pygments_lexer": "ipython3",
   "version": "3.9.13"
  }
 },
 "nbformat": 4,
 "nbformat_minor": 5
}
